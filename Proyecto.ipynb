{
  "nbformat": 4,
  "nbformat_minor": 0,
  "metadata": {
    "colab": {
      "provenance": [],
      "authorship_tag": "ABX9TyMIBOWdnUrEOG4GrYUikxGN",
      "include_colab_link": true
    },
    "kernelspec": {
      "name": "python3",
      "display_name": "Python 3"
    },
    "language_info": {
      "name": "python"
    }
  },
  "cells": [
    {
      "cell_type": "markdown",
      "metadata": {
        "id": "view-in-github",
        "colab_type": "text"
      },
      "source": [
        "<a href=\"https://colab.research.google.com/github/LeonardoFabian899/Proyecto_Final/blob/main/Proyecto.ipynb\" target=\"_parent\"><img src=\"https://colab.research.google.com/assets/colab-badge.svg\" alt=\"Open In Colab\"/></a>"
      ]
    },
    {
      "cell_type": "markdown",
      "source": [
        "#Funciones en operaciones en medidas"
      ],
      "metadata": {
        "id": "POmJRRF5o_DL"
      }
    },
    {
      "cell_type": "markdown",
      "source": [
        "# ¿De que trata el proyecto?\n",
        "\n",
        "El código nos ayuda a resolver operaciones para sacar el área de diferentes figuras, esto con la intención de poder ayudar un poco con el procedimiento de las mismas.\n",
        "Primero se definen las variables que se utilicen en caso que se haya una inicial de las operaciones.\n",
        "### Las figuras que se utilizaran son:\n",
        "- Cuadrado\n",
        "- Rectangulo\n",
        "- Triangulo\n",
        "- Circulo"
      ],
      "metadata": {
        "id": "z4eDSmMtoiRY"
      }
    },
    {
      "cell_type": "code",
      "execution_count": 21,
      "metadata": {
        "colab": {
          "base_uri": "https://localhost:8080/"
        },
        "id": "QlYICK9DNY4f",
        "outputId": "3cdb7896-7f2a-4242-e964-c81eff671882"
      },
      "outputs": [
        {
          "output_type": "stream",
          "name": "stdout",
          "text": [
            "^^^ Menu  de opciones ^^^\n",
            "1. Area de un cuadrado\n",
            "2. Area de un rectangulo\n",
            "3. Area de un triangulo\n",
            "4. Area de un circulo\n",
            "5. Salir\n",
            "Ingrese una opcion: 1\n",
            "Numero 1: 4\n",
            "Numero 2: 0\n",
            "El area de un cuadrado es: 16.0\n",
            "^^^ Menu  de opciones ^^^\n",
            "1. Area de un cuadrado\n",
            "2. Area de un rectangulo\n",
            "3. Area de un triangulo\n",
            "4. Area de un circulo\n",
            "5. Salir\n",
            "Ingrese una opcion: 2\n",
            "Numero 1: 10\n",
            "Numero 2: 5\n",
            "El area de un rectangulo es:  50.0\n",
            "^^^ Menu  de opciones ^^^\n",
            "1. Area de un cuadrado\n",
            "2. Area de un rectangulo\n",
            "3. Area de un triangulo\n",
            "4. Area de un circulo\n",
            "5. Salir\n",
            "Ingrese una opcion: 3\n",
            "Numero 1: 12\n",
            "Numero 2: 6\n",
            "El area de un triangulo es:  36.0\n",
            "^^^ Menu  de opciones ^^^\n",
            "1. Area de un cuadrado\n",
            "2. Area de un rectangulo\n",
            "3. Area de un triangulo\n",
            "4. Area de un circulo\n",
            "5. Salir\n",
            "Ingrese una opcion: 4\n",
            "Numero 1: 15\n",
            "Numero 2: 0\n",
            "El area de un circulo es:  706.86\n",
            "^^^ Menu  de opciones ^^^\n",
            "1. Area de un cuadrado\n",
            "2. Area de un rectangulo\n",
            "3. Area de un triangulo\n",
            "4. Area de un circulo\n",
            "5. Salir\n",
            "Ingrese una opcion: 5\n",
            "Numero 1: 0\n",
            "Numero 2: 0\n",
            "Ha concluido el menu\n"
          ]
        }
      ],
      "source": [
        "#Funciones\n",
        "\n",
        "def c(a):\n",
        "  return a * a\n",
        "\n",
        "def r(a, b):\n",
        "  return a * b\n",
        "\n",
        "def t(a, b):\n",
        "  return (a * b)/ 2\n",
        "\n",
        "def ci(a):\n",
        "  return 3.1416 * a ** 2\n",
        "\n",
        "# Menu de opciones\n",
        "while True:\n",
        "  print(\"^^^ Menu  de opciones ^^^\")\n",
        "  print(\"1. Area de un cuadrado\")\n",
        "  print(\"2. Area de un rectangulo\")\n",
        "  print(\"3. Area de un triangulo\")\n",
        "  print(\"4. Area de un circulo\")\n",
        "  print(\"5. Salir\")\n",
        "  opc = input(\"Ingrese una opcion: \")\n",
        "  n1 = float(input(\"Numero 1: \"))\n",
        "  n2 = float(input(\"Numero 2: \"))\n",
        "\n",
        "  if opc == \"1\":\n",
        "    print(\"El area de un cuadrado es:\", c(n1))\n",
        "  elif opc==\"2\":\n",
        "    print(\"El area de un rectangulo es: \", r(n1, n2))\n",
        "  elif opc==\"3\":\n",
        "    print(\"El area de un triangulo es: \", t(n1, n2))\n",
        "  elif opc==\"4\":\n",
        "    print(\"El area de un circulo es: \", ci(n1))\n",
        "\n",
        "  # Coloca dos numeros que te pide y termina el codigo\n",
        "  # Solo agreagregar un valor en el casilla numero 1\n",
        "  # en la opcion del cuadrado y el circulo\n",
        "  elif opc == \"5\":\n",
        "      print(\"Ha concluido el menu\")\n",
        "      break\n",
        "\n",
        "  else:\n",
        "    print(\"ERROR EN EJECUCION\")"
      ]
    }
  ]
}